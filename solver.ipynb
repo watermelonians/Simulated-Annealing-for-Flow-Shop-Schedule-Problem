{
 "cells": [
  {
   "cell_type": "markdown",
   "metadata": {},
   "source": [
    "# Simulated Annealing as a Meta heuristic for the FSS problem\n"
   ]
  },
  {
   "cell_type": "code",
   "execution_count": 217,
   "metadata": {},
   "outputs": [],
   "source": [
    "import pandas as pd\n",
    "import numpy as np\n",
    "import matplotlib.pyplot as plt\n",
    "import random\n",
    "import math\n",
    "import plotly.figure_factory as ff\n",
    "import plotly.express as px\n",
    "from datetime import timedelta"
   ]
  },
  {
   "cell_type": "code",
   "execution_count": 218,
   "metadata": {},
   "outputs": [],
   "source": [
    "class SolveFSSP:\n",
    "    def __init__(\n",
    "        self,\n",
    "        csv_path: str,\n",
    "        initial_temperature: float,\n",
    "        final_temperature: float,\n",
    "        cooling_rate: float,\n",
    "        max_iterations: int,\n",
    "    ) -> None:\n",
    "        \"\"\"\n",
    "        m: number of machines/operations\n",
    "        n: number of jobs\n",
    "        \"\"\"\n",
    "        self.p, self.r_hat, self.d_hat = self.load_dataset(csv_path)\n",
    "        self.m, self.n = self.p.shape\n",
    "\n",
    "        self.initial_temperature = initial_temperature\n",
    "        self.final_temperature = final_temperature\n",
    "        self.cooling_rate = cooling_rate\n",
    "        self.max_iterations = max_iterations\n",
    "\n",
    "        self.S = np.zeros((self.m, self.n))  # Job start matrix\n",
    "        self.C = np.zeros((self.m, self.n))  # Job completion matrix\n",
    "\n",
    "    def load_dataset(self, csv_path):\n",
    "        \"\"\"loads dataset in csv_path\n",
    "\n",
    "        Args:\n",
    "            csv_path (str): relative path of dataset\n",
    "\n",
    "        Returns:\n",
    "            p (list[list[int]]): (m, n) processing time matrix\n",
    "            r_hat (list[int]): (m,) minimum idle time per machine\n",
    "            d_hat (list[int]): (m,) maximum idle time per machine\n",
    "        \"\"\"\n",
    "        p = pd.read_csv(csv_path)\n",
    "        r_hat = np.array(p[\"r_a\"])\n",
    "        d_hat = np.array(p[\"d_a\"])\n",
    "        p = np.array(p.drop([\"r_a\", \"d_a\"], axis=1))\n",
    "        return np.array(p), np.array(r_hat), np.array(d_hat)\n",
    "\n",
    "    def initial_solution(self):\n",
    "        \"\"\"inializes the solution (permutations for each machine) array\n",
    "\n",
    "        Returns:\n",
    "            list[list[int]]: matrix of permuations for each machine\n",
    "        \"\"\"\n",
    "        return [[i for i in range(self.n)] for _ in range(self.m)]\n",
    "\n",
    "    def calculate_times(self, solution):\n",
    "        \"\"\"Calculates the start and completion times matrices S and C.\n",
    "\n",
    "        Args:\n",
    "            solution ( list[list[int]] ): matrix of permutations for each machine\n",
    "\n",
    "        Returns:\n",
    "            tuple: (S, C) matrices of start and completion times\n",
    "        \"\"\"\n",
    "        S = np.zeros((self.m, self.n))\n",
    "        C = np.zeros((self.m, self.n))\n",
    "\n",
    "        for i in range(self.m):  # for each machine\n",
    "            for j in range(self.n):  # for each job\n",
    "                job = solution[i][j]\n",
    "                # print(f\"dealing with operation {i} of job {job}\")\n",
    "\n",
    "                if i == 0:  # first machine\n",
    "                    if j == 0:\n",
    "                        S[i][job] = 0\n",
    "                    else:\n",
    "                        S[i][job] = C[i][solution[i][j - 1]] + self.r_hat[i]\n",
    "                        # print(\"S[i][job]: \", S[i][job])\n",
    "\n",
    "                else:  # subsequent machines\n",
    "                    if j == 0:\n",
    "                        # print(i, solution[i][j - 1], C[i - 1][job])\n",
    "                        # the first job starts as soon as the the previous operation\n",
    "                        # of the same job is done\n",
    "                        S[i][job] = C[i - 1][job]\n",
    "                    else:\n",
    "                        # S[i][job] = max(C[i - 1][job], C[i][job - 1] + self.r_hat[i])\n",
    "                        S[i][job] = max(\n",
    "                            C[i - 1][job], C[i][solution[i][j - 1]] + self.r_hat[i]\n",
    "                        )\n",
    "                        \"\"\" print(f\"completion time of previous operation: {C[i - 1][job]}\")\n",
    "                        print(\n",
    "                            f\"completion time of curren/last task on machine: {C[i][solution[i][j-1]]}\"\n",
    "                        )\n",
    "                        print(f\"S[i][job]={S[i][job]}\") \"\"\"\n",
    "                # Fill C matrix\n",
    "\n",
    "                C[i][job] = S[i][job] + self.p[i][job]\n",
    "                \"\"\" print(\"S[i][job]: \", S[i][job])\n",
    "                print(\"self.p[i][job]\", self.p[i][job])\n",
    "                print(\"C[i][job]: \", C[i][job])\n",
    "                print(\"S:\\n\", S)\n",
    "                print(\"C:\\n\", C, \"\\n\") \"\"\"\n",
    "\n",
    "                # Ensure idle time constraints hold\n",
    "                if j > 0:\n",
    "                    # idle_time = S[i][job] - C[i][job - 1]\n",
    "                    idle_time = S[i][job] - C[i][solution[i][j - 1]]\n",
    "                    if idle_time < self.r_hat[i] or idle_time > self.d_hat[i]:\n",
    "                        # print(f\"idle_time={idle_time} violated, adjusting \")\n",
    "                        self.adjust_row(solution, S, C, i, j, job)\n",
    "                        # print(\"updated S:\\n\", S)\n",
    "                        # print(\"updated C:\\n\", C)\n",
    "\n",
    "        return S, C\n",
    "\n",
    "    def adjust_row(self, solution, S, C, i, j, job):\n",
    "        \"\"\"ensures r_hat <= idle_time <= d_hat constraint by moving\n",
    "        all operations on machine i to the nearest possible time\n",
    "        (d_hat[i] moments before S[i][job]), then recursively moves\n",
    "        previous instances.\n",
    "\n",
    "\n",
    "        Returns:\n",
    "            None (modifies S and P en place)\n",
    "        \"\"\"\n",
    "        idle_time = S[i][job] - C[i][solution[i][j - 1]]\n",
    "        if j == 0 or idle_time <= self.d_hat[i]:\n",
    "            return\n",
    "        # move previous job to finish precisely d_hat moments before S[i][job]\n",
    "        C[i][solution[i][j - 1]] = S[i][job] - self.d_hat[i]\n",
    "        # S[i][solution[i][j - 1]] = C[i][solution[i][j - 1]] - self.p[i][j]\n",
    "        # ??????????????????????????\n",
    "        S[i][solution[i][j - 1]] = C[i][solution[i][j - 1]] - self.p[i][job]\n",
    "\n",
    "        # recursively adjust previous jobs\n",
    "        self.adjust_row(solution, S, C, i, j - 1, solution[i][j - 1])\n",
    "\n",
    "    def objective_function(self, solution):\n",
    "        \"\"\"Calulates makespan of last machine by generting S and C matrices\n",
    "\n",
    "        Args:\n",
    "            solution (list[list[float]]): permutation matrix\n",
    "\n",
    "        Returns:\n",
    "            float: makespan of last machine\n",
    "        \"\"\"\n",
    "        _, C = self.calculate_times(solution)\n",
    "        return max(C[-1])\n",
    "\n",
    "    def perturb_solution(self, solution):\n",
    "        \"\"\"Generates a neighbor solution by perturbing the job sequence of a random machine.\n",
    "\n",
    "        Args:\n",
    "            solution (list[list[int]]): Current solution matrix\n",
    "\n",
    "        Returns:\n",
    "            list[list[int]]: New solution matrix\n",
    "        \"\"\"\n",
    "        new_solution = [row[:] for row in solution]\n",
    "        machine = random.randint(0, self.m - 1)\n",
    "        i, j = random.sample(range(self.n), 2)\n",
    "        new_solution[machine][i], new_solution[machine][j] = (\n",
    "            new_solution[machine][j],\n",
    "            new_solution[machine][i],\n",
    "        )\n",
    "        return new_solution\n",
    "\n",
    "    def simulated_annealing(self):\n",
    "        \"\"\"Runs the SA algoritm.\n",
    "\n",
    "        Returns:\n",
    "            tuple (list[list[int]], float): permutation matrix of best solution,\n",
    "                                            its objective function value\n",
    "        \"\"\"\n",
    "        # Initialize variables\n",
    "        current_solution = self.initial_solution()\n",
    "        current_objective = self.objective_function(current_solution)\n",
    "\n",
    "        best_solution = current_solution\n",
    "        best_objective = current_objective\n",
    "\n",
    "        objective_history = []\n",
    "\n",
    "        T = self.initial_temperature\n",
    "        iteration = 0\n",
    "        while T > self.final_temperature and iteration < self.max_iterations:\n",
    "            new_solution = self.perturb_solution(current_solution)\n",
    "            new_objective = self.objective_function(new_solution)\n",
    "\n",
    "            if new_objective <= best_objective:\n",
    "                best_objective = new_objective\n",
    "                best_solution = new_solution\n",
    "\n",
    "            # Change in objective function\n",
    "            delta_E = new_objective - current_objective\n",
    "\n",
    "            \"\"\" Only accept new_solution if it's objective function value is better \n",
    "            than current_colution's objective functio value, or with a probability\n",
    "            proportional to temperature T.\"\"\"\n",
    "\n",
    "            if delta_E < 0 or random.random() < math.exp(-delta_E / T):\n",
    "                objective_history.append(new_objective)\n",
    "                current_solution = new_solution\n",
    "                current_objective = new_objective\n",
    "\n",
    "            \"\"\"Cooling rate is linear by choice.\"\"\"\n",
    "            T *= self.cooling_rate\n",
    "            iteration += 1\n",
    "\n",
    "        return np.array(best_solution), best_objective, objective_history\n",
    "        #\n",
    "\n",
    "    def plot_gantt(self, sol):\n",
    "        S, C = self.calculate_times(sol)\n",
    "\n",
    "        df = pd.DataFrame(\n",
    "            {\n",
    "                \"Start\": S.reshape(\n",
    "                    -1,\n",
    "                ),\n",
    "                \"Finish\": C.reshape(\n",
    "                    -1,\n",
    "                ),\n",
    "                \"Task\": np.reshape(self.initial_solution(), (-1,)),\n",
    "                \"i\": np.array(\n",
    "                    [-1 * np.floor(i / self.n) for i in range(self.n * self.m)]\n",
    "                ),\n",
    "            }\n",
    "        )\n",
    "\n",
    "        base_date = pd.Timestamp(\"2024-01-01\")\n",
    "\n",
    "        # Calculate the proportional date for each Start and Finish\n",
    "        def proportional_date(base, value, max_value):\n",
    "            return base + timedelta(days=(value / max_value) * 365)\n",
    "\n",
    "        max_finish = df[\"Finish\"].max()\n",
    "\n",
    "        df[\"Start_Date\"] = df[\"Start\"].apply(\n",
    "            lambda x: proportional_date(base_date, x, max_finish).strftime(\"%Y-%m-%d\")\n",
    "        )\n",
    "        df[\"Finish_Date\"] = df[\"Finish\"].apply(\n",
    "            lambda x: proportional_date(base_date, x, max_finish).strftime(\"%Y-%m-%d\")\n",
    "        )\n",
    "        # print(df)\n",
    "\n",
    "        fig = px.timeline(\n",
    "            df, x_start=\"Start_Date\", x_end=\"Finish_Date\", y=\"i\", color=\"Task\"\n",
    "        )\n",
    "        print(f\"Best solution found:\\n {sol}\")\n",
    "        print(f\"Makespan: {max(C[-1])}\")\n",
    "        fig.show()"
   ]
  },
  {
   "cell_type": "markdown",
   "metadata": {},
   "source": [
    "## Driver code"
   ]
  },
  {
   "cell_type": "code",
   "execution_count": 225,
   "metadata": {},
   "outputs": [
    {
     "name": "stdout",
     "output_type": "stream",
     "text": [
      "Best solution found:\n",
      " [[0 2 3 4 1]\n",
      " [2 3 0 1 4]\n",
      " [2 3 1 4 0]]\n",
      "Objective function value: 33.0\n"
     ]
    },
    {
     "data": {
      "text/plain": [
       "[<matplotlib.lines.Line2D at 0x72c5b776c170>]"
      ]
     },
     "execution_count": 225,
     "metadata": {},
     "output_type": "execute_result"
    },
    {
     "data": {
      "image/png": "[encoded data removed]",
      "text/plain": [
       "<Figure size 640x480 with 1 Axes>"
      ]
     },
     "metadata": {},
     "output_type": "display_data"
    }
   ],
   "source": [
    "fssp = SolveFSSP(\n",
    "    csv_path=\"operation_times.csv\",\n",
    "    initial_temperature=1000,\n",
    "    final_temperature=1,\n",
    "    cooling_rate=0.99,\n",
    "    max_iterations=100000,\n",
    ")\n",
    "\n",
    "solution, solution_objective, objective_hystory = fssp.simulated_annealing()\n",
    "print(f\"Best solution found:\\n {solution}\")\n",
    "print(f\"Objective function value: {solution_objective}\")\n",
    "plt.plot(objective_hystory)"
   ]
  },
  {
   "cell_type": "code",
   "execution_count": 226,
   "metadata": {},
   "outputs": [
    {
     "name": "stdout",
     "output_type": "stream",
     "text": [
      "Best solution found:\n",
      " [[0 2 3 4 1]\n",
      " [2 3 0 1 4]\n",
      " [2 3 1 4 0]]\n",
      "Makespan: 33.0\n"
     ]
    },
    {
     "data": {
      "application/vnd.plotly.v1+json": {
       "config": {
        "plotlyServerURL": "https://plot.ly"
       },
       "data": [
        {
         "alignmentgroup": "True",
         "base": [
          "2024-01-01",
          "2024-05-12",
          "2024-02-03",
          "2024-03-07",
          "2024-03-29",
          "2024-06-25",
          "2024-08-09",
          "2024-02-25",
          "2024-03-18",
          "2024-09-11",
          "2024-12-08",
          "2024-08-31",
          "2024-03-07",
          "2024-06-14",
          "2024-09-22"
         ],
         "hovertemplate": "Start_Date=%{base}<br>Finish_Date=%{x}<br>i=%{y}<br>Task=%{marker.color}<extra></extra>",
         "legendgroup": "",
         "marker": {
          "color": [
           0,
           1,
           2,
           3,
           4,
           0,
           1,
           2,
           3,
           4,
           0,
           1,
           2,
           3,
           4
          ],
          "coloraxis": "coloraxis",
          "pattern": {
           "shape": ""
          }
         },
         "name": "",
         "offsetgroup": "",
         "orientation": "h",
         "showlegend": false,
         "textposition": "auto",
         "type": "bar",
         "x": [
          1900800000,
          7689600000,
          1900800000,
          950400000,
          2851200000,
          1987200000,
          1900800000,
          950400000,
          6652800000,
          950400000,
          1987200000,
          1900800000,
          8553600000,
          6739200000,
          6652800000
         ],
         "xaxis": "x",
         "y": [
          0,
          0,
          0,
          0,
          0,
          -1,
          -1,
          -1,
          -1,
          -1,
          -2,
          -2,
          -2,
          -2,
          -2
         ],
         "yaxis": "y"
        }
       ],
       "layout": {
        "barmode": "overlay",
        "coloraxis": {
         "colorbar": {
          "title": {
           "text": "Task"
          }
         },
         "colorscale": [
          [
           0,
           "#0d0887"
          ],
          [
           0.1111111111111111,
           "#46039f"
          ],
          [
           0.2222222222222222,
           "#7201a8"
          ],
          [
           0.3333333333333333,
           "#9c179e"
          ],
          [
           0.4444444444444444,
           "#bd3786"
          ],
          [
           0.5555555555555556,
           "#d8576b"
          ],
          [
           0.6666666666666666,
           "#ed7953"
          ],
          [
           0.7777777777777778,
           "#fb9f3a"
          ],
          [
           0.8888888888888888,
           "#fdca26"
          ],
          [
           1,
           "#f0f921"
          ]
         ]
        },
        "legend": {
         "tracegroupgap": 0
        },
        "margin": {
         "t": 60
        },
        "template": {
         "data": {
          "bar": [
           {
            "error_x": {
             "color": "#2a3f5f"
            },
            "error_y": {
             "color": "#2a3f5f"
            },
            "marker": {
             "line": {
              "color": "#E5ECF6",
              "width": 0.5
             },
             "pattern": {
              "fillmode": "overlay",
              "size": 10,
              "solidity": 0.2
             }
            },
            "type": "bar"
           }
          ],
          "barpolar": [
           {
            "marker": {
             "line": {
              "color": "#E5ECF6",
              "width": 0.5
             },
             "pattern": {
              "fillmode": "overlay",
              "size": 10,
              "solidity": 0.2
             }
            },
            "type": "barpolar"
           }
          ],
          "carpet": [
           {
            "aaxis": {
             "endlinecolor": "#2a3f5f",
             "gridcolor": "white",
             "linecolor": "white",
             "minorgridcolor": "white",
             "startlinecolor": "#2a3f5f"
            },
            "baxis": {
             "endlinecolor": "#2a3f5f",
             "gridcolor": "white",
             "linecolor": "white",
             "minorgridcolor": "white",
             "startlinecolor": "#2a3f5f"
            },
            "type": "carpet"
           }
          ],
          "choropleth": [
           {
            "colorbar": {
             "outlinewidth": 0,
             "ticks": ""
            },
            "type": "choropleth"
           }
          ],
          "contour": [
           {
            "colorbar": {
             "outlinewidth": 0,
             "ticks": ""
            },
            "colorscale": [
             [
              0,
              "#0d0887"
             ],
             [
              0.1111111111111111,
              "#46039f"
             ],
             [
              0.2222222222222222,
              "#7201a8"
             ],
             [
              0.3333333333333333,
              "#9c179e"
             ],
             [
              0.4444444444444444,
              "#bd3786"
             ],
             [
              0.5555555555555556,
              "#d8576b"
             ],
             [
              0.6666666666666666,
              "#ed7953"
             ],
             [
              0.7777777777777778,
              "#fb9f3a"
             ],
             [
              0.8888888888888888,
              "#fdca26"
             ],
             [
              1,
              "#f0f921"
             ]
            ],
            "type": "contour"
           }
          ],
          "contourcarpet": [
           {
            "colorbar": {
             "outlinewidth": 0,
             "ticks": ""
            },
            "type": "contourcarpet"
           }
          ],
          "heatmap": [
           {
            "colorbar": {
             "outlinewidth": 0,
             "ticks": ""
            },
            "colorscale": [
             [
              0,
              "#0d0887"
             ],
             [
              0.1111111111111111,
              "#46039f"
             ],
             [
              0.2222222222222222,
              "#7201a8"
             ],
             [
              0.3333333333333333,
              "#9c179e"
             ],
             [
              0.4444444444444444,
              "#bd3786"
             ],
             [
              0.5555555555555556,
              "#d8576b"
             ],
             [
              0.6666666666666666,
              "#ed7953"
             ],
             [
              0.7777777777777778,
              "#fb9f3a"
             ],
             [
              0.8888888888888888,
              "#fdca26"
             ],
             [
              1,
              "#f0f921"
             ]
            ],
            "type": "heatmap"
           }
          ],
          "heatmapgl": [
           {
            "colorbar": {
             "outlinewidth": 0,
             "ticks": ""
            },
            "colorscale": [
             [
              0,
              "#0d0887"
             ],
             [
              0.1111111111111111,
              "#46039f"
             ],
             [
              0.2222222222222222,
              "#7201a8"
             ],
             [
              0.3333333333333333,
              "#9c179e"
             ],
             [
              0.4444444444444444,
              "#bd3786"
             ],
             [
              0.5555555555555556,
              "#d8576b"
             ],
             [
              0.6666666666666666,
              "#ed7953"
             ],
             [
              0.7777777777777778,
              "#fb9f3a"
             ],
             [
              0.8888888888888888,
              "#fdca26"
             ],
             [
              1,
              "#f0f921"
             ]
            ],
            "type": "heatmapgl"
           }
          ],
          "histogram": [
           {
            "marker": {
             "pattern": {
              "fillmode": "overlay",
              "size": 10,
              "solidity": 0.2
             }
            },
            "type": "histogram"
           }
          ],
          "histogram2d": [
           {
            "colorbar": {
             "outlinewidth": 0,
             "ticks": ""
            },
            "colorscale": [
             [
              0,
              "#0d0887"
             ],
             [
              0.1111111111111111,
              "#46039f"
             ],
             [
              0.2222222222222222,
              "#7201a8"
             ],
             [
              0.3333333333333333,
              "#9c179e"
             ],
             [
              0.4444444444444444,
              "#bd3786"
             ],
             [
              0.5555555555555556,
              "#d8576b"
             ],
             [
              0.6666666666666666,
              "#ed7953"
             ],
             [
              0.7777777777777778,
              "#fb9f3a"
             ],
             [
              0.8888888888888888,
              "#fdca26"
             ],
             [
              1,
              "#f0f921"
             ]
            ],
            "type": "histogram2d"
           }
          ],
          "histogram2dcontour": [
           {
            "colorbar": {
             "outlinewidth": 0,
             "ticks": ""
            },
            "colorscale": [
             [
              0,
              "#0d0887"
             ],
             [
              0.1111111111111111,
              "#46039f"
             ],
             [
              0.2222222222222222,
              "#7201a8"
             ],
             [
              0.3333333333333333,
              "#9c179e"
             ],
             [
              0.4444444444444444,
              "#bd3786"
             ],
             [
              0.5555555555555556,
              "#d8576b"
             ],
             [
              0.6666666666666666,
              "#ed7953"
             ],
             [
              0.7777777777777778,
              "#fb9f3a"
             ],
             [
              0.8888888888888888,
              "#fdca26"
             ],
             [
              1,
              "#f0f921"
             ]
            ],
            "type": "histogram2dcontour"
           }
          ],
          "mesh3d": [
           {
            "colorbar": {
             "outlinewidth": 0,
             "ticks": ""
            },
            "type": "mesh3d"
           }
          ],
          "parcoords": [
           {
            "line": {
             "colorbar": {
              "outlinewidth": 0,
              "ticks": ""
             }
            },
            "type": "parcoords"
           }
          ],
          "pie": [
           {
            "automargin": true,
            "type": "pie"
           }
          ],
          "scatter": [
           {
            "fillpattern": {
             "fillmode": "overlay",
             "size": 10,
             "solidity": 0.2
            },
            "type": "scatter"
           }
          ],
          "scatter3d": [
           {
            "line": {
             "colorbar": {
              "outlinewidth": 0,
              "ticks": ""
             }
            },
            "marker": {
             "colorbar": {
              "outlinewidth": 0,
              "ticks": ""
             }
            },
            "type": "scatter3d"
           }
          ],
          "scattercarpet": [
           {
            "marker": {
             "colorbar": {
              "outlinewidth": 0,
              "ticks": ""
             }
            },
            "type": "scattercarpet"
           }
          ],
          "scattergeo": [
           {
            "marker": {
             "colorbar": {
              "outlinewidth": 0,
              "ticks": ""
             }
            },
            "type": "scattergeo"
           }
          ],
          "scattergl": [
           {
            "marker": {
             "colorbar": {
              "outlinewidth": 0,
              "ticks": ""
             }
            },
            "type": "scattergl"
           }
          ],
          "scattermapbox": [
           {
            "marker": {
             "colorbar": {
              "outlinewidth": 0,
              "ticks": ""
             }
            },
            "type": "scattermapbox"
           }
          ],
          "scatterpolar": [
           {
            "marker": {
             "colorbar": {
              "outlinewidth": 0,
              "ticks": ""
             }
            },
            "type": "scatterpolar"
           }
          ],
          "scatterpolargl": [
           {
            "marker": {
             "colorbar": {
              "outlinewidth": 0,
              "ticks": ""
             }
            },
            "type": "scatterpolargl"
           }
          ],
          "scatterternary": [
           {
            "marker": {
             "colorbar": {
              "outlinewidth": 0,
              "ticks": ""
             }
            },
            "type": "scatterternary"
           }
          ],
          "surface": [
           {
            "colorbar": {
             "outlinewidth": 0,
             "ticks": ""
            },
            "colorscale": [
             [
              0,
              "#0d0887"
             ],
             [
              0.1111111111111111,
              "#46039f"
             ],
             [
              0.2222222222222222,
              "#7201a8"
             ],
             [
              0.3333333333333333,
              "#9c179e"
             ],
             [
              0.4444444444444444,
              "#bd3786"
             ],
             [
              0.5555555555555556,
              "#d8576b"
             ],
             [
              0.6666666666666666,
              "#ed7953"
             ],
             [
              0.7777777777777778,
              "#fb9f3a"
             ],
             [
              0.8888888888888888,
              "#fdca26"
             ],
             [
              1,
              "#f0f921"
             ]
            ],
            "type": "surface"
           }
          ],
          "table": [
           {
            "cells": {
             "fill": {
              "color": "#EBF0F8"
             },
             "line": {
              "color": "white"
             }
            },
            "header": {
             "fill": {
              "color": "#C8D4E3"
             },
             "line": {
              "color": "white"
             }
            },
            "type": "table"
           }
          ]
         },
         "layout": {
          "annotationdefaults": {
           "arrowcolor": "#2a3f5f",
           "arrowhead": 0,
           "arrowwidth": 1
          },
          "autotypenumbers": "strict",
          "coloraxis": {
           "colorbar": {
            "outlinewidth": 0,
            "ticks": ""
           }
          },
          "colorscale": {
           "diverging": [
            [
             0,
             "#8e0152"
            ],
            [
             0.1,
             "#c51b7d"
            ],
            [
             0.2,
             "#de77ae"
            ],
            [
             0.3,
             "#f1b6da"
            ],
            [
             0.4,
             "#fde0ef"
            ],
            [
             0.5,
             "#f7f7f7"
            ],
            [
             0.6,
             "#e6f5d0"
            ],
            [
             0.7,
             "#b8e186"
            ],
            [
             0.8,
             "#7fbc41"
            ],
            [
             0.9,
             "#4d9221"
            ],
            [
             1,
             "#276419"
            ]
           ],
           "sequential": [
            [
             0,
             "#0d0887"
            ],
            [
             0.1111111111111111,
             "#46039f"
            ],
            [
             0.2222222222222222,
             "#7201a8"
            ],
            [
             0.3333333333333333,
             "#9c179e"
            ],
            [
             0.4444444444444444,
             "#bd3786"
            ],
            [
             0.5555555555555556,
             "#d8576b"
            ],
            [
             0.6666666666666666,
             "#ed7953"
            ],
            [
             0.7777777777777778,
             "#fb9f3a"
            ],
            [
             0.8888888888888888,
             "#fdca26"
            ],
            [
             1,
             "#f0f921"
            ]
           ],
           "sequentialminus": [
            [
             0,
             "#0d0887"
            ],
            [
             0.1111111111111111,
             "#46039f"
            ],
            [
             0.2222222222222222,
             "#7201a8"
            ],
            [
             0.3333333333333333,
             "#9c179e"
            ],
            [
             0.4444444444444444,
             "#bd3786"
            ],
            [
             0.5555555555555556,
             "#d8576b"
            ],
            [
             0.6666666666666666,
             "#ed7953"
            ],
            [
             0.7777777777777778,
             "#fb9f3a"
            ],
            [
             0.8888888888888888,
             "#fdca26"
            ],
            [
             1,
             "#f0f921"
            ]
           ]
          },
          "colorway": [
           "#636efa",
           "#EF553B",
           "#00cc96",
           "#ab63fa",
           "#FFA15A",
           "#19d3f3",
           "#FF6692",
           "#B6E880",
           "#FF97FF",
           "#FECB52"
          ],
          "font": {
           "color": "#2a3f5f"
          },
          "geo": {
           "bgcolor": "white",
           "lakecolor": "white",
           "landcolor": "#E5ECF6",
           "showlakes": true,
           "showland": true,
           "subunitcolor": "white"
          },
          "hoverlabel": {
           "align": "left"
          },
          "hovermode": "closest",
          "mapbox": {
           "style": "light"
          },
          "paper_bgcolor": "white",
          "plot_bgcolor": "#E5ECF6",
          "polar": {
           "angularaxis": {
            "gridcolor": "white",
            "linecolor": "white",
            "ticks": ""
           },
           "bgcolor": "#E5ECF6",
           "radialaxis": {
            "gridcolor": "white",
            "linecolor": "white",
            "ticks": ""
           }
          },
          "scene": {
           "xaxis": {
            "backgroundcolor": "#E5ECF6",
            "gridcolor": "white",
            "gridwidth": 2,
            "linecolor": "white",
            "showbackground": true,
            "ticks": "",
            "zerolinecolor": "white"
           },
           "yaxis": {
            "backgroundcolor": "#E5ECF6",
            "gridcolor": "white",
            "gridwidth": 2,
            "linecolor": "white",
            "showbackground": true,
            "ticks": "",
            "zerolinecolor": "white"
           },
           "zaxis": {
            "backgroundcolor": "#E5ECF6",
            "gridcolor": "white",
            "gridwidth": 2,
            "linecolor": "white",
            "showbackground": true,
            "ticks": "",
            "zerolinecolor": "white"
           }
          },
          "shapedefaults": {
           "line": {
            "color": "#2a3f5f"
           }
          },
          "ternary": {
           "aaxis": {
            "gridcolor": "white",
            "linecolor": "white",
            "ticks": ""
           },
           "baxis": {
            "gridcolor": "white",
            "linecolor": "white",
            "ticks": ""
           },
           "bgcolor": "#E5ECF6",
           "caxis": {
            "gridcolor": "white",
            "linecolor": "white",
            "ticks": ""
           }
          },
          "title": {
           "x": 0.05
          },
          "xaxis": {
           "automargin": true,
           "gridcolor": "white",
           "linecolor": "white",
           "ticks": "",
           "title": {
            "standoff": 15
           },
           "zerolinecolor": "white",
           "zerolinewidth": 2
          },
          "yaxis": {
           "automargin": true,
           "gridcolor": "white",
           "linecolor": "white",
           "ticks": "",
           "title": {
            "standoff": 15
           },
           "zerolinecolor": "white",
           "zerolinewidth": 2
          }
         }
        },
        "xaxis": {
         "anchor": "y",
         "domain": [
          0,
          1
         ],
         "type": "date"
        },
        "yaxis": {
         "anchor": "x",
         "domain": [
          0,
          1
         ],
         "title": {
          "text": "i"
         }
        }
       }
      }
     },
     "metadata": {},
     "output_type": "display_data"
    }
   ],
   "source": [
    "fssp.plot_gantt(solution)"
   ]
  }
 ],
 "metadata": {
  "kernelspec": {
   "display_name": "base",
   "language": "python",
   "name": "python3"
  },
  "language_info": {
   "codemirror_mode": {
    "name": "ipython",
    "version": 3
   },
   "file_extension": ".py",
   "mimetype": "text/x-python",
   "name": "python",
   "nbconvert_exporter": "python",
   "pygments_lexer": "ipython3",
   "version": "3.12.2"
  }
 },
 "nbformat": 4,
 "nbformat_minor": 2
}
